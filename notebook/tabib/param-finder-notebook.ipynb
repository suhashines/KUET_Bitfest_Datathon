{
 "cells": [
  {
   "cell_type": "code",
   "execution_count": 1,
   "id": "5c2558b1",
   "metadata": {
    "_cell_guid": "b1076dfc-b9ad-4769-8c92-a6c4dae69d19",
    "_uuid": "8f2839f25d086af736a60e9eeb907d3b93b6e0e5",
    "execution": {
     "iopub.execute_input": "2024-12-28T08:55:07.237072Z",
     "iopub.status.busy": "2024-12-28T08:55:07.236784Z",
     "iopub.status.idle": "2024-12-28T08:55:12.244251Z",
     "shell.execute_reply": "2024-12-28T08:55:12.243524Z"
    },
    "papermill": {
     "duration": 5.014195,
     "end_time": "2024-12-28T08:55:12.245795",
     "exception": false,
     "start_time": "2024-12-28T08:55:07.231600",
     "status": "completed"
    },
    "tags": []
   },
   "outputs": [],
   "source": [
    "import pandas as pd\n",
    "import numpy as np\n",
    "from sklearn.model_selection import RepeatedKFold\n",
    "from sklearn.metrics import mean_squared_error\n",
    "import lightgbm as lgb\n",
    "import xgboost as xgb\n",
    "import catboost as cb\n",
    "import re\n",
    "from ast import literal_eval\n",
    "from datetime import datetime\n",
    "from sklearn.preprocessing import PowerTransformer, StandardScaler\n",
    "from sklearn.feature_extraction.text import TfidfVectorizer, CountVectorizer\n",
    "from sklearn.decomposition import TruncatedSVD, NMF\n",
    "from sklearn.preprocessing import OneHotEncoder, LabelEncoder\n"
   ]
  },
  {
   "cell_type": "code",
   "execution_count": 2,
   "id": "130ed62c",
   "metadata": {
    "_cell_guid": "b1076dfc-b9ad-4769-8c92-a6c4dae69d19",
    "_uuid": "8f2839f25d086af736a60e9eeb907d3b93b6e0e5",
    "execution": {
     "iopub.execute_input": "2024-12-28T08:55:12.253197Z",
     "iopub.status.busy": "2024-12-28T08:55:12.252620Z",
     "iopub.status.idle": "2024-12-28T08:55:12.256069Z",
     "shell.execute_reply": "2024-12-28T08:55:12.255316Z"
    },
    "papermill": {
     "duration": 0.008342,
     "end_time": "2024-12-28T08:55:12.257367",
     "exception": false,
     "start_time": "2024-12-28T08:55:12.249025",
     "status": "completed"
    },
    "tags": []
   },
   "outputs": [],
   "source": [
    "###############################################################################\n",
    "# TextProcessor\n",
    "###############################################################################"
   ]
  },
  {
   "cell_type": "code",
   "execution_count": 3,
   "id": "8eb537f7",
   "metadata": {
    "execution": {
     "iopub.execute_input": "2024-12-28T08:55:12.263959Z",
     "iopub.status.busy": "2024-12-28T08:55:12.263715Z",
     "iopub.status.idle": "2024-12-28T08:55:12.272841Z",
     "shell.execute_reply": "2024-12-28T08:55:12.272200Z"
    },
    "papermill": {
     "duration": 0.013831,
     "end_time": "2024-12-28T08:55:12.274023",
     "exception": false,
     "start_time": "2024-12-28T08:55:12.260192",
     "status": "completed"
    },
    "tags": []
   },
   "outputs": [],
   "source": [
    "class TextProcessor:\n",
    "    def __init__(self, max_features=300):\n",
    "        self.tfidf_models = {}\n",
    "        self.count_models = {}\n",
    "        self.svd_models = {}\n",
    "        self.nmf_models = {}\n",
    "        self.max_features = max_features\n",
    "\n",
    "    def clean_text(self, text):\n",
    "        if pd.isna(text):\n",
    "            return ''\n",
    "        text = str(text).lower()\n",
    "        text = re.sub(r'[^\\w\\s]', ' ', text)\n",
    "        text = re.sub(r'\\d+', 'NUM', text)\n",
    "        text = re.sub(r'\\s+', ' ', text).strip()\n",
    "        return text\n",
    "\n",
    "    def process_list(self, text):\n",
    "        if pd.isna(text) or text == '':\n",
    "            return []\n",
    "        try:\n",
    "            items = literal_eval(text)\n",
    "            return [self.clean_text(item) for item in items]\n",
    "        except:\n",
    "            return [self.clean_text(item) for item in str(text).split(',')]\n",
    "\n",
    "    def fit_transform_text(self, texts, feature_name):\n",
    "        processed_texts = [\n",
    "            ' '.join(self.process_list(text)) if isinstance(text, str) else ''\n",
    "            for text in texts\n",
    "        ]\n",
    "        self.tfidf_models[feature_name] = TfidfVectorizer(\n",
    "            max_features=self.max_features,\n",
    "            ngram_range=(1, 3),\n",
    "            stop_words='english'\n",
    "        )\n",
    "        tfidf_matrix = self.tfidf_models[feature_name].fit_transform(processed_texts)\n",
    "        self.count_models[feature_name] = CountVectorizer(\n",
    "            max_features=self.max_features // 2,\n",
    "            ngram_range=(1, 2),\n",
    "            stop_words='english'\n",
    "        )\n",
    "        count_matrix = self.count_models[feature_name].fit_transform(processed_texts)\n",
    "        self.svd_models[feature_name] = TruncatedSVD(n_components=50, random_state=42)\n",
    "        svd_matrix = self.svd_models[feature_name].fit_transform(tfidf_matrix)\n",
    "        self.nmf_models[feature_name] = NMF(n_components=30, random_state=42)\n",
    "        nmf_matrix = self.nmf_models[feature_name].fit_transform(tfidf_matrix)\n",
    "        return np.hstack([\n",
    "            tfidf_matrix.toarray(),\n",
    "            count_matrix.toarray(),\n",
    "            svd_matrix,\n",
    "            nmf_matrix\n",
    "        ])\n",
    "\n",
    "    def transform_text(self, texts, feature_name):\n",
    "        processed_texts = [\n",
    "            ' '.join(self.process_list(text)) if isinstance(text, str) else ''\n",
    "            for text in texts\n",
    "        ]\n",
    "        tfidf_matrix = self.tfidf_models[feature_name].transform(processed_texts)\n",
    "        count_matrix = self.count_models[feature_name].transform(processed_texts)\n",
    "        svd_matrix = self.svd_models[feature_name].transform(tfidf_matrix)\n",
    "        nmf_matrix = self.nmf_models[feature_name].transform(tfidf_matrix)\n",
    "        return np.hstack([\n",
    "            tfidf_matrix.toarray(),\n",
    "            count_matrix.toarray(),\n",
    "            svd_matrix,\n",
    "            nmf_matrix\n",
    "        ])\n"
   ]
  },
  {
   "cell_type": "code",
   "execution_count": 4,
   "id": "c2029daa",
   "metadata": {
    "execution": {
     "iopub.execute_input": "2024-12-28T08:55:12.279980Z",
     "iopub.status.busy": "2024-12-28T08:55:12.279774Z",
     "iopub.status.idle": "2024-12-28T08:55:12.283229Z",
     "shell.execute_reply": "2024-12-28T08:55:12.282447Z"
    },
    "papermill": {
     "duration": 0.007756,
     "end_time": "2024-12-28T08:55:12.284548",
     "exception": false,
     "start_time": "2024-12-28T08:55:12.276792",
     "status": "completed"
    },
    "tags": []
   },
   "outputs": [],
   "source": [
    "FEATURE_WEIGHTS = {\n",
    "    'skills_required': 0.12,\n",
    "    'locations': 0.10,\n",
    "    'experience_requirement': 0.09,\n",
    "    'job_position_name': 0.08,\n",
    "    'educational_requirements': 0.07,\n",
    "    'major_field_of_studies': 0.06,\n",
    "    'responsibilities.1': 0.05,\n",
    "    'passing_years': 0.05,\n",
    "    'career_objective': 0.04,\n",
    "    'skills': 0.03,\n",
    "    'age_requirement': 0.03,\n",
    "    'start_dates': 0.02,\n",
    "    'responsibilities': 0.02\n",
    "}"
   ]
  },
  {
   "cell_type": "code",
   "execution_count": 5,
   "id": "e892572a",
   "metadata": {
    "_cell_guid": "b1076dfc-b9ad-4769-8c92-a6c4dae69d19",
    "_uuid": "8f2839f25d086af736a60e9eeb907d3b93b6e0e5",
    "execution": {
     "iopub.execute_input": "2024-12-28T08:55:12.291210Z",
     "iopub.status.busy": "2024-12-28T08:55:12.290955Z",
     "iopub.status.idle": "2024-12-28T08:55:12.312403Z",
     "shell.execute_reply": "2024-12-28T08:55:12.311825Z"
    },
    "papermill": {
     "duration": 0.026441,
     "end_time": "2024-12-28T08:55:12.313612",
     "exception": false,
     "start_time": "2024-12-28T08:55:12.287171",
     "status": "completed"
    },
    "tags": []
   },
   "outputs": [],
   "source": [
    "class FeatureEngineer:\n",
    "    def __init__(self):\n",
    "        self.text_processor = TextProcessor()\n",
    "        self.scaler = StandardScaler()\n",
    "        self.power_transformer = PowerTransformer(method='yeo-johnson', standardize=False)\n",
    "        self.categorical_encoders = {}\n",
    "\n",
    "    def extract_years_experience(self, row):\n",
    "        try:\n",
    "            start_years = [int(y) for y in re.findall(r'\\d{4}', str(row['start_dates']))]\n",
    "            end_years = [int(y) for y in re.findall(r'\\d{4}', str(row['end_dates']))]\n",
    "            if not end_years:\n",
    "                end_years = [2024]\n",
    "            experiences = [e - s for s, e in zip(start_years, end_years)]\n",
    "            return {\n",
    "                'total_experience': sum(experiences),\n",
    "                'max_experience': max(experiences) if experiences else 0,\n",
    "                'num_positions': len(experiences)\n",
    "            }\n",
    "        except:\n",
    "            return {'total_experience': 0, 'max_experience': 0, 'num_positions': 0}\n",
    "\n",
    "    def clean_education_result(self, result_str):\n",
    "        if pd.isna(result_str):\n",
    "            return 0\n",
    "        try:\n",
    "            if result_str.startswith('['):\n",
    "                result_str = literal_eval(result_str)[0]\n",
    "            result_str = str(result_str).upper()\n",
    "            if result_str in ['N/A', 'NONE', 'NAN', '']:\n",
    "                return 0\n",
    "            result_str = result_str.replace('%', '')\n",
    "            return float(result_str)\n",
    "        except:\n",
    "            return 0\n",
    "\n",
    "    def extract_education_features(self, row):\n",
    "        try:\n",
    "            degree = str(row['degree_names']).lower() if not pd.isna(row['degree_names']) else ''\n",
    "            result = self.clean_education_result(row['educational_results'])\n",
    "            edu_score = 0\n",
    "            if 'phd' in degree or 'doctorate' in degree:\n",
    "                edu_score = 4\n",
    "            elif 'master' in degree:\n",
    "                edu_score = 3\n",
    "            elif 'bachelor' in degree or 'bsc' in degree or 'ba' in degree:\n",
    "                edu_score = 2\n",
    "            elif 'diploma' in degree or 'certificate' in degree:\n",
    "                edu_score = 1\n",
    "            return {\n",
    "                'education_score': edu_score,\n",
    "                'education_result': result,\n",
    "                'education_weight': edu_score * (result / 100 if result > 0 else 1)\n",
    "            }\n",
    "        except:\n",
    "            return {\n",
    "                'education_score': 0,\n",
    "                'education_result': 0,\n",
    "                'education_weight': 0\n",
    "            }\n",
    "\n",
    "    def calculate_weighted_feature(self, df):\n",
    "        \"\"\"Calculates a composite feature using FEATURE_WEIGHTS.\"\"\"\n",
    "        df['composite_feature'] = 0  # Initialize composite feature\n",
    "        for feature, weight in FEATURE_WEIGHTS.items():\n",
    "            if feature in df.columns:\n",
    "                numeric_feature = pd.to_numeric(df[feature], errors='coerce').fillna(0)\n",
    "                df['composite_feature'] += numeric_feature * weight\n",
    "        return df\n",
    "\n",
    "    def encode_categorical_features(self, df, categorical_columns, is_train=True):\n",
    "        \"\"\"\n",
    "        Encodes categorical columns using One-Hot or Label Encoding.\n",
    "        \"\"\"\n",
    "        encoded_dfs = []\n",
    "        for col in categorical_columns:\n",
    "            if is_train:\n",
    "                if df[col].nunique() <= 50:  # Threshold for OneHotEncoding\n",
    "                    encoder = OneHotEncoder(sparse=False, handle_unknown='ignore')\n",
    "                    encoded = encoder.fit_transform(df[[col]].fillna('Unknown'))\n",
    "                    self.categorical_encoders[col] = encoder\n",
    "                    df_encoded = pd.DataFrame(\n",
    "                        encoded,\n",
    "                        columns=[f\"{col}_{cat}\" for cat in encoder.categories_[0]],\n",
    "                        index=df.index\n",
    "                    )\n",
    "                else:\n",
    "                    encoder = LabelEncoder()\n",
    "                    encoded = encoder.fit_transform(df[col].fillna('Unknown'))\n",
    "                    self.categorical_encoders[col] = encoder\n",
    "                    df_encoded = pd.DataFrame(\n",
    "                        {f\"{col}_label\": encoded}, index=df.index\n",
    "                    )\n",
    "            else:\n",
    "                encoder = self.categorical_encoders.get(col)\n",
    "                if encoder:\n",
    "                    if isinstance(encoder, OneHotEncoder):\n",
    "                        encoded = encoder.transform(df[[col]].fillna('Unknown'))\n",
    "                        df_encoded = pd.DataFrame(\n",
    "                            encoded,\n",
    "                            columns=[f\"{col}_{cat}\" for cat in encoder.categories_[0]],\n",
    "                            index=df.index\n",
    "                        )\n",
    "                    elif isinstance(encoder, LabelEncoder):\n",
    "                        encoded = encoder.transform(df[col].fillna('Unknown'))\n",
    "                        df_encoded = pd.DataFrame(\n",
    "                            {f\"{col}_label\": encoded}, index=df.index\n",
    "                        )\n",
    "                    else:\n",
    "                        raise ValueError(f\"Unsupported encoder type for column '{col}'\")\n",
    "                else:\n",
    "                    # Handle cases where the encoder is not available\n",
    "                    print(f\"Warning: No encoder found for column '{col}'. Using default encoding.\")\n",
    "                    df_encoded = pd.DataFrame(\n",
    "                        {f\"{col}_label\": [0] * len(df)}, index=df.index\n",
    "                    )\n",
    "    \n",
    "            # Append the encoded DataFrame to the list\n",
    "            encoded_dfs.append(df_encoded)\n",
    "        \n",
    "        # Concatenate all encoded columns\n",
    "        if encoded_dfs:\n",
    "            return pd.concat(encoded_dfs, axis=1)\n",
    "        else:\n",
    "            # If no valid encoding was applied, return an empty DataFrame\n",
    "            return pd.DataFrame(index=df.index)\n",
    "\n",
    "\n",
    "\n",
    "    def sanitize_feature_names(self, df):\n",
    "        \"\"\"Clean feature names to remove special characters unsupported by LightGBM.\"\"\"\n",
    "        df.columns = [\n",
    "            re.sub(r'[^\\w\\.-]', '_', col).replace('__', '_') for col in df.columns\n",
    "        ]\n",
    "        return df\n",
    "    def transform(self, df, is_train=True):\n",
    "        # Numeric features from experience and education\n",
    "        exp_features = df.apply(self.extract_years_experience, axis=1)\n",
    "        edu_features = df.apply(self.extract_education_features, axis=1)\n",
    "    \n",
    "        feature_dict = {}\n",
    "        for feat in ['total_experience', 'max_experience', 'num_positions']:\n",
    "            feature_dict[feat] = [x[feat] for x in exp_features]\n",
    "        for feat in ['education_score', 'education_result', 'education_weight']:\n",
    "            feature_dict[feat] = [x[feat] for x in edu_features]\n",
    "    \n",
    "        # Basic numeric count features\n",
    "        feature_dict['num_skills'] = df['skills'].fillna('').str.count(',') + 1\n",
    "        feature_dict['has_certification'] = (~df['certification_skills'].isna()).astype(int)\n",
    "        feature_dict['num_languages'] = df['languages'].fillna('').str.count(',') + 1\n",
    "    \n",
    "        # Additional *interaction* features\n",
    "        feature_dict['experience_per_position'] = np.array(feature_dict['total_experience']) / (\n",
    "            np.array(feature_dict['num_positions']) + 0.1\n",
    "        )\n",
    "        feature_dict['result_x_edu_score'] = (\n",
    "            np.array(feature_dict['education_result']) * np.array(feature_dict['education_score'])\n",
    "        )\n",
    "    \n",
    "        numeric_df = pd.DataFrame(feature_dict, index=df.index)\n",
    "    \n",
    "        # Drop constant columns\n",
    "        constant_cols = numeric_df.columns[numeric_df.nunique() <= 1]\n",
    "        if len(constant_cols) > 0:\n",
    "            print(f\"Dropping constant columns: {list(constant_cols)}\")\n",
    "            numeric_df = numeric_df.drop(columns=constant_cols)\n",
    "    \n",
    "        # Power transform or scale numeric features\n",
    "        if is_train:\n",
    "            try:\n",
    "                numeric_arr = self.power_transformer.fit_transform(numeric_df)\n",
    "            except Exception as e:\n",
    "                print(f\"PowerTransformer failed: {e}. Falling back to StandardScaler.\")\n",
    "                numeric_arr = self.scaler.fit_transform(numeric_df)\n",
    "        else:\n",
    "            try:\n",
    "                numeric_arr = self.power_transformer.transform(numeric_df)\n",
    "            except Exception as e:\n",
    "                print(f\"PowerTransformer failed: {e}. Falling back to StandardScaler.\")\n",
    "                numeric_arr = self.scaler.transform(numeric_df)\n",
    "    \n",
    "        numeric_df = pd.DataFrame(numeric_arr, columns=numeric_df.columns, index=numeric_df.index)\n",
    "    \n",
    "        # Text features\n",
    "        text_features = [\n",
    "            'skills', 'career_objective', 'responsibilities',\n",
    "            'educational_institution_name', 'certification_skills',\n",
    "            'major_field_of_studies'\n",
    "        ]\n",
    "    \n",
    "        all_text_features = {}\n",
    "        for feature in text_features:\n",
    "            if is_train:\n",
    "                text_matrix = self.text_processor.fit_transform_text(df[feature], feature)\n",
    "            else:\n",
    "                text_matrix = self.text_processor.transform_text(df[feature], feature)\n",
    "    \n",
    "            for i in range(text_matrix.shape[1]):\n",
    "                all_text_features[f'{feature}_text_{i}'] = text_matrix[:, i]\n",
    "    \n",
    "        text_feature_df = pd.DataFrame(all_text_features, index=df.index)\n",
    "    \n",
    "        # Handle categorical features\n",
    "        categorical_columns = [\n",
    "             'locations', 'result_types',\n",
    "            'extra_curricular_activity_types', 'role_positions', 'proficiency_levels'\n",
    "        ]\n",
    "        categorical_df = self.encode_categorical_features(df, categorical_columns, is_train)\n",
    "    \n",
    "        # Calculate and add weighted composite feature\n",
    "        df = self.calculate_weighted_feature(df)\n",
    "        numeric_df['composite_feature'] = df['composite_feature']\n",
    "    \n",
    "        # Combine all features\n",
    "        combined_features = pd.concat([numeric_df, text_feature_df, categorical_df], axis=1)\n",
    "    \n",
    "        # Sanitize feature names\n",
    "        combined_features = self.sanitize_feature_names(combined_features)\n",
    "    \n",
    "        # Return the final feature DataFrame\n",
    "        return combined_features\n"
   ]
  },
  {
   "cell_type": "code",
   "execution_count": 6,
   "id": "c33e292e",
   "metadata": {
    "execution": {
     "iopub.execute_input": "2024-12-28T08:55:12.319711Z",
     "iopub.status.busy": "2024-12-28T08:55:12.319487Z",
     "iopub.status.idle": "2024-12-28T08:55:12.674906Z",
     "shell.execute_reply": "2024-12-28T08:55:12.674174Z"
    },
    "papermill": {
     "duration": 0.360158,
     "end_time": "2024-12-28T08:55:12.676565",
     "exception": false,
     "start_time": "2024-12-28T08:55:12.316407",
     "status": "completed"
    },
    "tags": []
   },
   "outputs": [],
   "source": [
    "    train_df = pd.read_csv('/kaggle/input/bitfest-datathon-2025/train.csv')\n",
    "    test_df = pd.read_csv('/kaggle/input/bitfest-datathon-2025/test.csv')"
   ]
  },
  {
   "cell_type": "code",
   "execution_count": 7,
   "id": "099105a4",
   "metadata": {
    "execution": {
     "iopub.execute_input": "2024-12-28T08:55:12.683442Z",
     "iopub.status.busy": "2024-12-28T08:55:12.683192Z",
     "iopub.status.idle": "2024-12-28T08:55:12.695833Z",
     "shell.execute_reply": "2024-12-28T08:55:12.694842Z"
    },
    "papermill": {
     "duration": 0.017443,
     "end_time": "2024-12-28T08:55:12.697215",
     "exception": false,
     "start_time": "2024-12-28T08:55:12.679772",
     "status": "completed"
    },
    "tags": []
   },
   "outputs": [],
   "source": [
    "import pandas as pd\n",
    "import numpy as np\n",
    "from sklearn.model_selection import KFold\n",
    "from sklearn.metrics import mean_squared_error, r2_score\n",
    "import lightgbm as lgb\n",
    "import optuna\n",
    "from sklearn.preprocessing import StandardScaler\n",
    "import warnings\n",
    "warnings.filterwarnings('ignore')\n",
    "\n",
    "class OptimizedLightGBM:\n",
    "    def __init__(self, n_trials=50):\n",
    "        self.n_trials = n_trials\n",
    "        self.best_params = None\n",
    "        \n",
    "    def objective(self, trial, X, y):\n",
    "        param = {\n",
    "            'objective': 'regression_l2',\n",
    "            'metric': 'l2',\n",
    "            'boosting_type': 'gbdt',\n",
    "            'device': 'gpu',\n",
    "            'gpu_platform_id': 0,\n",
    "            'gpu_device_id': 0,\n",
    "            'verbose': -1,\n",
    "            \n",
    "            # GPU-compatible hyperparameters\n",
    "            'num_leaves': trial.suggest_int('num_leaves', 31, 128),  # Reduced max leaves\n",
    "            'max_depth': trial.suggest_int('max_depth', 5, 12),      # Reduced max depth\n",
    "            'learning_rate': trial.suggest_loguniform('learning_rate', 0.005, 0.05),\n",
    "            'feature_fraction': trial.suggest_uniform('feature_fraction', 0.6, 1.0),\n",
    "            'bagging_fraction': trial.suggest_uniform('bagging_fraction', 0.6, 1.0),\n",
    "            'bagging_freq': trial.suggest_int('bagging_freq', 1, 10),\n",
    "            'min_child_samples': trial.suggest_int('min_child_samples', 20, 80),\n",
    "            'max_bin': trial.suggest_int('max_bin', 63, 255),  # GPU-compatible bin size\n",
    "            'min_data_in_leaf': trial.suggest_int('min_data_in_leaf', 10, 50),\n",
    "            'lambda_l1': trial.suggest_loguniform('lambda_l1', 1e-8, 10.0),\n",
    "            'lambda_l2': trial.suggest_loguniform('lambda_l2', 1e-8, 10.0)\n",
    "        }\n",
    "        \n",
    "        # K-fold cross-validation\n",
    "        kf = KFold(n_splits=5, shuffle=True, random_state=42)\n",
    "        scores = []\n",
    "        \n",
    "        for train_idx, val_idx in kf.split(X):\n",
    "            X_train, X_val = X.iloc[train_idx], X.iloc[val_idx]\n",
    "            y_train, y_val = y[train_idx], y[val_idx]\n",
    "            \n",
    "            train_data = lgb.Dataset(X_train, label=y_train)\n",
    "            val_data = lgb.Dataset(X_val, label=y_val)\n",
    "            \n",
    "            try:\n",
    "                model = lgb.train(\n",
    "                    param,\n",
    "                    train_data,\n",
    "                    valid_sets=[val_data],\n",
    "                    num_boost_round=1000,\n",
    "                    callbacks=[\n",
    "                        lgb.early_stopping(stopping_rounds=50),\n",
    "                        lgb.log_evaluation(period=0)\n",
    "                    ]\n",
    "                )\n",
    "                \n",
    "                preds = model.predict(X_val)\n",
    "                fold_score = mean_squared_error(y_val, preds)\n",
    "                scores.append(fold_score)\n",
    "            except lgb.basic.LightGBMError as e:\n",
    "                # Return a large error score if the parameters are invalid\n",
    "                return float('inf')\n",
    "        \n",
    "        return np.mean(scores)\n",
    "\n",
    "    def find_best_params(self, X, y):\n",
    "        study = optuna.create_study(direction='minimize')\n",
    "        study.optimize(lambda trial: self.objective(trial, X, y),\n",
    "                      n_trials=self.n_trials)\n",
    "        \n",
    "        self.best_params = study.best_params\n",
    "        print(\"\\nOptimization Results:\")\n",
    "        print(\"Best MSE:\", study.best_value)\n",
    "        print(\"Best parameters:\", self.best_params)\n",
    "        return self.best_params"
   ]
  },
  {
   "cell_type": "code",
   "execution_count": 8,
   "id": "6807b344",
   "metadata": {
    "execution": {
     "iopub.execute_input": "2024-12-28T08:55:12.704155Z",
     "iopub.status.busy": "2024-12-28T08:55:12.703886Z",
     "iopub.status.idle": "2024-12-28T09:26:56.864467Z",
     "shell.execute_reply": "2024-12-28T09:26:56.863481Z"
    },
    "papermill": {
     "duration": 1904.165484,
     "end_time": "2024-12-28T09:26:56.865907",
     "exception": false,
     "start_time": "2024-12-28T08:55:12.700423",
     "status": "completed"
    },
    "tags": []
   },
   "outputs": [
    {
     "name": "stdout",
     "output_type": "stream",
     "text": [
      "Transforming train data...\n",
      "Transforming test data...\n"
     ]
    },
    {
     "name": "stderr",
     "output_type": "stream",
     "text": [
      "[I 2024-12-28 08:55:25,626] A new study created in memory with name: no-name-7effc769-38a5-4446-920a-4d012d3b6831\n"
     ]
    },
    {
     "name": "stdout",
     "output_type": "stream",
     "text": [
      "Finding optimal hyperparameters...\n",
      "Training until validation scores don't improve for 50 rounds\n",
      "Did not meet early stopping. Best iteration is:\n",
      "[1000]\tvalid_0's l2: 0.00977158\n",
      "Training until validation scores don't improve for 50 rounds\n",
      "Did not meet early stopping. Best iteration is:\n",
      "[1000]\tvalid_0's l2: 0.00942166\n",
      "Training until validation scores don't improve for 50 rounds\n",
      "Did not meet early stopping. Best iteration is:\n",
      "[1000]\tvalid_0's l2: 0.00892562\n",
      "Training until validation scores don't improve for 50 rounds\n",
      "Did not meet early stopping. Best iteration is:\n",
      "[1000]\tvalid_0's l2: 0.00951987\n",
      "Training until validation scores don't improve for 50 rounds\n",
      "Did not meet early stopping. Best iteration is:\n",
      "[1000]\tvalid_0's l2: 0.0088914\n"
     ]
    },
    {
     "name": "stderr",
     "output_type": "stream",
     "text": [
      "[I 2024-12-28 08:57:36,868] Trial 0 finished with value: 0.009306026182334485 and parameters: {'num_leaves': 54, 'max_depth': 9, 'learning_rate': 0.006154872287389939, 'feature_fraction': 0.7025492087368943, 'bagging_fraction': 0.7331398066744437, 'bagging_freq': 7, 'min_child_samples': 50, 'max_bin': 203, 'min_data_in_leaf': 29, 'lambda_l1': 2.0926831953352057e-06, 'lambda_l2': 0.8061711841850441}. Best is trial 0 with value: 0.009306026182334485.\n"
     ]
    },
    {
     "name": "stdout",
     "output_type": "stream",
     "text": [
      "Training until validation scores don't improve for 50 rounds\n",
      "Did not meet early stopping. Best iteration is:\n",
      "[1000]\tvalid_0's l2: 0.0103808\n",
      "Training until validation scores don't improve for 50 rounds\n",
      "Did not meet early stopping. Best iteration is:\n",
      "[1000]\tvalid_0's l2: 0.0100749\n",
      "Training until validation scores don't improve for 50 rounds\n",
      "Did not meet early stopping. Best iteration is:\n",
      "[1000]\tvalid_0's l2: 0.00940882\n",
      "Training until validation scores don't improve for 50 rounds\n",
      "Did not meet early stopping. Best iteration is:\n",
      "[1000]\tvalid_0's l2: 0.00994871\n",
      "Training until validation scores don't improve for 50 rounds\n",
      "Did not meet early stopping. Best iteration is:\n",
      "[1000]\tvalid_0's l2: 0.00939692\n"
     ]
    },
    {
     "name": "stderr",
     "output_type": "stream",
     "text": [
      "[I 2024-12-28 08:58:31,642] Trial 1 finished with value: 0.009842026222203487 and parameters: {'num_leaves': 57, 'max_depth': 6, 'learning_rate': 0.009514434641048085, 'feature_fraction': 0.6101690442389059, 'bagging_fraction': 0.6174219919768559, 'bagging_freq': 9, 'min_child_samples': 34, 'max_bin': 227, 'min_data_in_leaf': 50, 'lambda_l1': 2.4229861961031528e-06, 'lambda_l2': 6.176227450705077e-08}. Best is trial 0 with value: 0.009306026182334485.\n"
     ]
    },
    {
     "name": "stdout",
     "output_type": "stream",
     "text": [
      "Training until validation scores don't improve for 50 rounds\n",
      "Early stopping, best iteration is:\n",
      "[479]\tvalid_0's l2: 0.00921662\n",
      "Training until validation scores don't improve for 50 rounds\n",
      "Early stopping, best iteration is:\n",
      "[520]\tvalid_0's l2: 0.00909414\n",
      "Training until validation scores don't improve for 50 rounds\n",
      "Early stopping, best iteration is:\n",
      "[432]\tvalid_0's l2: 0.00876184\n",
      "Training until validation scores don't improve for 50 rounds\n",
      "Early stopping, best iteration is:\n",
      "[622]\tvalid_0's l2: 0.00916681\n",
      "Training until validation scores don't improve for 50 rounds\n"
     ]
    },
    {
     "name": "stderr",
     "output_type": "stream",
     "text": [
      "[I 2024-12-28 08:59:57,522] Trial 2 finished with value: 0.008958070543431732 and parameters: {'num_leaves': 102, 'max_depth': 10, 'learning_rate': 0.03837075835582365, 'feature_fraction': 0.972429016039639, 'bagging_fraction': 0.6937236374765352, 'bagging_freq': 8, 'min_child_samples': 50, 'max_bin': 199, 'min_data_in_leaf': 31, 'lambda_l1': 1.1336164070058268e-05, 'lambda_l2': 6.608874850927742e-05}. Best is trial 2 with value: 0.008958070543431732.\n"
     ]
    },
    {
     "name": "stdout",
     "output_type": "stream",
     "text": [
      "Early stopping, best iteration is:\n",
      "[320]\tvalid_0's l2: 0.00855094\n",
      "Training until validation scores don't improve for 50 rounds\n",
      "Did not meet early stopping. Best iteration is:\n",
      "[1000]\tvalid_0's l2: 0.0100944\n",
      "Training until validation scores don't improve for 50 rounds\n",
      "Did not meet early stopping. Best iteration is:\n",
      "[1000]\tvalid_0's l2: 0.00987531\n",
      "Training until validation scores don't improve for 50 rounds\n",
      "Did not meet early stopping. Best iteration is:\n",
      "[1000]\tvalid_0's l2: 0.00931224\n",
      "Training until validation scores don't improve for 50 rounds\n",
      "Did not meet early stopping. Best iteration is:\n",
      "[1000]\tvalid_0's l2: 0.0100015\n",
      "Training until validation scores don't improve for 50 rounds\n",
      "Did not meet early stopping. Best iteration is:\n",
      "[999]\tvalid_0's l2: 0.00922058\n"
     ]
    },
    {
     "name": "stderr",
     "output_type": "stream",
     "text": [
      "[I 2024-12-28 09:02:06,518] Trial 3 finished with value: 0.009700815239765584 and parameters: {'num_leaves': 103, 'max_depth': 8, 'learning_rate': 0.0058822773916529705, 'feature_fraction': 0.8992751060460251, 'bagging_fraction': 0.9284808584056232, 'bagging_freq': 8, 'min_child_samples': 37, 'max_bin': 227, 'min_data_in_leaf': 44, 'lambda_l1': 1.497053737557557e-05, 'lambda_l2': 1.0788079943313457e-06}. Best is trial 2 with value: 0.008958070543431732.\n"
     ]
    },
    {
     "name": "stdout",
     "output_type": "stream",
     "text": [
      "Training until validation scores don't improve for 50 rounds\n",
      "Did not meet early stopping. Best iteration is:\n",
      "[1000]\tvalid_0's l2: 0.00971898\n",
      "Training until validation scores don't improve for 50 rounds\n",
      "Did not meet early stopping. Best iteration is:\n",
      "[1000]\tvalid_0's l2: 0.00956902\n",
      "Training until validation scores don't improve for 50 rounds\n",
      "Did not meet early stopping. Best iteration is:\n",
      "[1000]\tvalid_0's l2: 0.00895379\n",
      "Training until validation scores don't improve for 50 rounds\n",
      "Did not meet early stopping. Best iteration is:\n",
      "[1000]\tvalid_0's l2: 0.00944445\n",
      "Training until validation scores don't improve for 50 rounds\n",
      "Did not meet early stopping. Best iteration is:\n",
      "[1000]\tvalid_0's l2: 0.00894684\n"
     ]
    },
    {
     "name": "stderr",
     "output_type": "stream",
     "text": [
      "[I 2024-12-28 09:03:44,354] Trial 4 finished with value: 0.009326615897315796 and parameters: {'num_leaves': 115, 'max_depth': 8, 'learning_rate': 0.007034944484598274, 'feature_fraction': 0.6618784543838787, 'bagging_fraction': 0.6525346178284571, 'bagging_freq': 10, 'min_child_samples': 40, 'max_bin': 216, 'min_data_in_leaf': 32, 'lambda_l1': 0.18270520915435076, 'lambda_l2': 0.025016991343771843}. Best is trial 2 with value: 0.008958070543431732.\n"
     ]
    },
    {
     "name": "stdout",
     "output_type": "stream",
     "text": [
      "Training until validation scores don't improve for 50 rounds\n",
      "Did not meet early stopping. Best iteration is:\n",
      "[1000]\tvalid_0's l2: 0.0106407\n",
      "Training until validation scores don't improve for 50 rounds\n",
      "Did not meet early stopping. Best iteration is:\n",
      "[996]\tvalid_0's l2: 0.0103327\n",
      "Training until validation scores don't improve for 50 rounds\n",
      "Did not meet early stopping. Best iteration is:\n",
      "[1000]\tvalid_0's l2: 0.00975263\n",
      "Training until validation scores don't improve for 50 rounds\n",
      "Did not meet early stopping. Best iteration is:\n",
      "[1000]\tvalid_0's l2: 0.0103535\n",
      "Training until validation scores don't improve for 50 rounds\n",
      "Did not meet early stopping. Best iteration is:\n",
      "[1000]\tvalid_0's l2: 0.00970788\n"
     ]
    },
    {
     "name": "stderr",
     "output_type": "stream",
     "text": [
      "[I 2024-12-28 09:05:30,842] Trial 5 finished with value: 0.01015745579030512 and parameters: {'num_leaves': 34, 'max_depth': 7, 'learning_rate': 0.0053057959159686415, 'feature_fraction': 0.9788989140271582, 'bagging_fraction': 0.6119538417539857, 'bagging_freq': 4, 'min_child_samples': 70, 'max_bin': 234, 'min_data_in_leaf': 30, 'lambda_l1': 0.05460092252633384, 'lambda_l2': 0.00010606977239928292}. Best is trial 2 with value: 0.008958070543431732.\n"
     ]
    },
    {
     "name": "stdout",
     "output_type": "stream",
     "text": [
      "Training until validation scores don't improve for 50 rounds\n",
      "Did not meet early stopping. Best iteration is:\n",
      "[1000]\tvalid_0's l2: 0.00926181\n",
      "Training until validation scores don't improve for 50 rounds\n",
      "Did not meet early stopping. Best iteration is:\n",
      "[999]\tvalid_0's l2: 0.0091207\n",
      "Training until validation scores don't improve for 50 rounds\n",
      "Did not meet early stopping. Best iteration is:\n",
      "[987]\tvalid_0's l2: 0.0086059\n",
      "Training until validation scores don't improve for 50 rounds\n",
      "Did not meet early stopping. Best iteration is:\n",
      "[1000]\tvalid_0's l2: 0.00915875\n",
      "Training until validation scores don't improve for 50 rounds\n",
      "Did not meet early stopping. Best iteration is:\n",
      "[1000]\tvalid_0's l2: 0.00845879\n"
     ]
    },
    {
     "name": "stderr",
     "output_type": "stream",
     "text": [
      "[I 2024-12-28 09:06:23,137] Trial 6 finished with value: 0.008921188739440877 and parameters: {'num_leaves': 79, 'max_depth': 5, 'learning_rate': 0.02189687463290465, 'feature_fraction': 0.6066665325178305, 'bagging_fraction': 0.6783333362716348, 'bagging_freq': 7, 'min_child_samples': 24, 'max_bin': 181, 'min_data_in_leaf': 39, 'lambda_l1': 0.43823926591852846, 'lambda_l2': 0.033790875751744484}. Best is trial 6 with value: 0.008921188739440877.\n"
     ]
    },
    {
     "name": "stdout",
     "output_type": "stream",
     "text": [
      "Training until validation scores don't improve for 50 rounds\n",
      "Did not meet early stopping. Best iteration is:\n",
      "[1000]\tvalid_0's l2: 0.00876743\n",
      "Training until validation scores don't improve for 50 rounds\n",
      "Did not meet early stopping. Best iteration is:\n",
      "[994]\tvalid_0's l2: 0.00878638\n",
      "Training until validation scores don't improve for 50 rounds\n",
      "Did not meet early stopping. Best iteration is:\n",
      "[1000]\tvalid_0's l2: 0.00815204\n",
      "Training until validation scores don't improve for 50 rounds\n",
      "Did not meet early stopping. Best iteration is:\n",
      "[994]\tvalid_0's l2: 0.00884232\n",
      "Training until validation scores don't improve for 50 rounds\n",
      "Did not meet early stopping. Best iteration is:\n",
      "[998]\tvalid_0's l2: 0.0082362\n"
     ]
    },
    {
     "name": "stderr",
     "output_type": "stream",
     "text": [
      "[I 2024-12-28 09:07:23,468] Trial 7 finished with value: 0.008556873779141756 and parameters: {'num_leaves': 89, 'max_depth': 6, 'learning_rate': 0.02415471063872619, 'feature_fraction': 0.6138157214350698, 'bagging_fraction': 0.8697311401025435, 'bagging_freq': 5, 'min_child_samples': 70, 'max_bin': 126, 'min_data_in_leaf': 15, 'lambda_l1': 1.1136883975473784e-08, 'lambda_l2': 2.5368014817540747e-06}. Best is trial 7 with value: 0.008556873779141756.\n"
     ]
    },
    {
     "name": "stdout",
     "output_type": "stream",
     "text": [
      "Training until validation scores don't improve for 50 rounds\n",
      "Did not meet early stopping. Best iteration is:\n",
      "[981]\tvalid_0's l2: 0.00893985\n",
      "Training until validation scores don't improve for 50 rounds\n",
      "Early stopping, best iteration is:\n",
      "[807]\tvalid_0's l2: 0.00876505\n",
      "Training until validation scores don't improve for 50 rounds\n",
      "Early stopping, best iteration is:\n",
      "[871]\tvalid_0's l2: 0.00829361\n",
      "Training until validation scores don't improve for 50 rounds\n",
      "Did not meet early stopping. Best iteration is:\n",
      "[972]\tvalid_0's l2: 0.00861123\n",
      "Training until validation scores don't improve for 50 rounds\n",
      "Did not meet early stopping. Best iteration is:\n",
      "[1000]\tvalid_0's l2: 0.00821078\n"
     ]
    },
    {
     "name": "stderr",
     "output_type": "stream",
     "text": [
      "[I 2024-12-28 09:11:02,957] Trial 8 finished with value: 0.008564101702139833 and parameters: {'num_leaves': 78, 'max_depth': 12, 'learning_rate': 0.016763909441942452, 'feature_fraction': 0.9926220965624607, 'bagging_fraction': 0.9230760357766183, 'bagging_freq': 6, 'min_child_samples': 21, 'max_bin': 182, 'min_data_in_leaf': 26, 'lambda_l1': 0.02052710739650274, 'lambda_l2': 1.3754623882330091e-08}. Best is trial 7 with value: 0.008556873779141756.\n"
     ]
    },
    {
     "name": "stdout",
     "output_type": "stream",
     "text": [
      "Training until validation scores don't improve for 50 rounds\n",
      "Did not meet early stopping. Best iteration is:\n",
      "[1000]\tvalid_0's l2: 0.0092877\n",
      "Training until validation scores don't improve for 50 rounds\n",
      "Did not meet early stopping. Best iteration is:\n",
      "[1000]\tvalid_0's l2: 0.00919339\n",
      "Training until validation scores don't improve for 50 rounds\n",
      "Did not meet early stopping. Best iteration is:\n",
      "[1000]\tvalid_0's l2: 0.0085524\n",
      "Training until validation scores don't improve for 50 rounds\n",
      "Did not meet early stopping. Best iteration is:\n",
      "[1000]\tvalid_0's l2: 0.00912199\n",
      "Training until validation scores don't improve for 50 rounds\n",
      "Did not meet early stopping. Best iteration is:\n",
      "[1000]\tvalid_0's l2: 0.0085655\n"
     ]
    },
    {
     "name": "stderr",
     "output_type": "stream",
     "text": [
      "[I 2024-12-28 09:15:59,633] Trial 9 finished with value: 0.008944195519157953 and parameters: {'num_leaves': 107, 'max_depth': 12, 'learning_rate': 0.006080464889033302, 'feature_fraction': 0.8492894417442789, 'bagging_fraction': 0.8384733870895533, 'bagging_freq': 10, 'min_child_samples': 76, 'max_bin': 186, 'min_data_in_leaf': 14, 'lambda_l1': 7.760554073236107e-05, 'lambda_l2': 3.9162312284768616e-08}. Best is trial 7 with value: 0.008556873779141756.\n"
     ]
    },
    {
     "name": "stdout",
     "output_type": "stream",
     "text": [
      "Training until validation scores don't improve for 50 rounds\n",
      "Did not meet early stopping. Best iteration is:\n",
      "[1000]\tvalid_0's l2: 0.00911869\n",
      "Training until validation scores don't improve for 50 rounds\n",
      "Did not meet early stopping. Best iteration is:\n",
      "[1000]\tvalid_0's l2: 0.00884449\n",
      "Training until validation scores don't improve for 50 rounds\n",
      "Did not meet early stopping. Best iteration is:\n",
      "[999]\tvalid_0's l2: 0.00850701\n",
      "Training until validation scores don't improve for 50 rounds\n",
      "Did not meet early stopping. Best iteration is:\n",
      "[1000]\tvalid_0's l2: 0.00913845\n",
      "Training until validation scores don't improve for 50 rounds\n",
      "Did not meet early stopping. Best iteration is:\n",
      "[986]\tvalid_0's l2: 0.00853583\n"
     ]
    },
    {
     "name": "stderr",
     "output_type": "stream",
     "text": [
      "[I 2024-12-28 09:16:36,941] Trial 10 finished with value: 0.008828892739316276 and parameters: {'num_leaves': 126, 'max_depth': 5, 'learning_rate': 0.048320174979913616, 'feature_fraction': 0.7524165125343297, 'bagging_fraction': 0.9910751000294249, 'bagging_freq': 1, 'min_child_samples': 64, 'max_bin': 103, 'min_data_in_leaf': 12, 'lambda_l1': 1.2114152338714371e-08, 'lambda_l2': 3.246769602102152e-06}. Best is trial 7 with value: 0.008556873779141756.\n"
     ]
    },
    {
     "name": "stdout",
     "output_type": "stream",
     "text": [
      "Training until validation scores don't improve for 50 rounds\n",
      "Did not meet early stopping. Best iteration is:\n",
      "[980]\tvalid_0's l2: 0.00856812\n",
      "Training until validation scores don't improve for 50 rounds\n",
      "Early stopping, best iteration is:\n",
      "[696]\tvalid_0's l2: 0.00867431\n",
      "Training until validation scores don't improve for 50 rounds\n",
      "Early stopping, best iteration is:\n",
      "[859]\tvalid_0's l2: 0.0081307\n",
      "Training until validation scores don't improve for 50 rounds\n",
      "Did not meet early stopping. Best iteration is:\n",
      "[978]\tvalid_0's l2: 0.00854423\n",
      "Training until validation scores don't improve for 50 rounds\n",
      "Early stopping, best iteration is:\n",
      "[756]\tvalid_0's l2: 0.00813901\n"
     ]
    },
    {
     "name": "stderr",
     "output_type": "stream",
     "text": [
      "[I 2024-12-28 09:19:25,087] Trial 11 finished with value: 0.008411271907315278 and parameters: {'num_leaves': 81, 'max_depth': 12, 'learning_rate': 0.018528159776261856, 'feature_fraction': 0.7987037372929257, 'bagging_fraction': 0.8565989252784519, 'bagging_freq': 4, 'min_child_samples': 20, 'max_bin': 134, 'min_data_in_leaf': 21, 'lambda_l1': 0.004358449390820413, 'lambda_l2': 2.4609170104023255e-06}. Best is trial 11 with value: 0.008411271907315278.\n"
     ]
    },
    {
     "name": "stdout",
     "output_type": "stream",
     "text": [
      "Training until validation scores don't improve for 50 rounds\n",
      "Early stopping, best iteration is:\n",
      "[929]\tvalid_0's l2: 0.00861981\n",
      "Training until validation scores don't improve for 50 rounds\n",
      "Early stopping, best iteration is:\n",
      "[772]\tvalid_0's l2: 0.00872866\n",
      "Training until validation scores don't improve for 50 rounds\n",
      "Early stopping, best iteration is:\n",
      "[812]\tvalid_0's l2: 0.00820868\n",
      "Training until validation scores don't improve for 50 rounds\n",
      "Did not meet early stopping. Best iteration is:\n",
      "[1000]\tvalid_0's l2: 0.00855804\n",
      "Training until validation scores don't improve for 50 rounds\n",
      "Early stopping, best iteration is:\n",
      "[944]\tvalid_0's l2: 0.00794114\n"
     ]
    },
    {
     "name": "stderr",
     "output_type": "stream",
     "text": [
      "[I 2024-12-28 09:21:38,638] Trial 12 finished with value: 0.008411267190948798 and parameters: {'num_leaves': 89, 'max_depth': 10, 'learning_rate': 0.025239837770155153, 'feature_fraction': 0.7905087614604197, 'bagging_fraction': 0.8071296449895503, 'bagging_freq': 4, 'min_child_samples': 61, 'max_bin': 119, 'min_data_in_leaf': 20, 'lambda_l1': 0.002331428802554355, 'lambda_l2': 3.2450392478802307e-06}. Best is trial 12 with value: 0.008411267190948798.\n"
     ]
    },
    {
     "name": "stdout",
     "output_type": "stream",
     "text": [
      "Training until validation scores don't improve for 50 rounds\n",
      "Did not meet early stopping. Best iteration is:\n",
      "[998]\tvalid_0's l2: 0.00895116\n",
      "Training until validation scores don't improve for 50 rounds\n",
      "Did not meet early stopping. Best iteration is:\n",
      "[1000]\tvalid_0's l2: 0.00861326\n",
      "Training until validation scores don't improve for 50 rounds\n",
      "Did not meet early stopping. Best iteration is:\n",
      "[996]\tvalid_0's l2: 0.00817434\n",
      "Training until validation scores don't improve for 50 rounds\n",
      "Did not meet early stopping. Best iteration is:\n",
      "[1000]\tvalid_0's l2: 0.00870107\n",
      "Training until validation scores don't improve for 50 rounds\n",
      "Did not meet early stopping. Best iteration is:\n",
      "[998]\tvalid_0's l2: 0.00809238\n"
     ]
    },
    {
     "name": "stderr",
     "output_type": "stream",
     "text": [
      "[I 2024-12-28 09:23:55,819] Trial 13 finished with value: 0.008506441522299128 and parameters: {'num_leaves': 71, 'max_depth': 11, 'learning_rate': 0.011829931133338667, 'feature_fraction': 0.7957437994216536, 'bagging_fraction': 0.7654674115436348, 'bagging_freq': 3, 'min_child_samples': 57, 'max_bin': 70, 'min_data_in_leaf': 20, 'lambda_l1': 0.0013841463302205967, 'lambda_l2': 0.0009235846387554657}. Best is trial 12 with value: 0.008411267190948798.\n"
     ]
    },
    {
     "name": "stdout",
     "output_type": "stream",
     "text": [
      "Training until validation scores don't improve for 50 rounds\n",
      "Early stopping, best iteration is:\n",
      "[497]\tvalid_0's l2: 0.0105278\n",
      "Training until validation scores don't improve for 50 rounds\n",
      "Did not meet early stopping. Best iteration is:\n",
      "[994]\tvalid_0's l2: 0.00986883\n",
      "Training until validation scores don't improve for 50 rounds\n",
      "Early stopping, best iteration is:\n",
      "[482]\tvalid_0's l2: 0.00961639\n",
      "Training until validation scores don't improve for 50 rounds\n",
      "Early stopping, best iteration is:\n",
      "[685]\tvalid_0's l2: 0.010077\n",
      "Training until validation scores don't improve for 50 rounds\n"
     ]
    },
    {
     "name": "stderr",
     "output_type": "stream",
     "text": [
      "[I 2024-12-28 09:24:29,566] Trial 14 finished with value: 0.00991147880151353 and parameters: {'num_leaves': 90, 'max_depth': 10, 'learning_rate': 0.03161041745295098, 'feature_fraction': 0.8428728847677374, 'bagging_fraction': 0.8190375904773319, 'bagging_freq': 2, 'min_child_samples': 56, 'max_bin': 137, 'min_data_in_leaf': 21, 'lambda_l1': 4.799094658981475, 'lambda_l2': 6.747985543721152e-06}. Best is trial 12 with value: 0.008411267190948798.\n"
     ]
    },
    {
     "name": "stdout",
     "output_type": "stream",
     "text": [
      "Early stopping, best iteration is:\n",
      "[593]\tvalid_0's l2: 0.0094667\n",
      "\n",
      "Optimization Results:\n",
      "Best MSE: 0.008411267190948798\n",
      "Best parameters: {'num_leaves': 89, 'max_depth': 10, 'learning_rate': 0.025239837770155153, 'feature_fraction': 0.7905087614604197, 'bagging_fraction': 0.8071296449895503, 'bagging_freq': 4, 'min_child_samples': 61, 'max_bin': 119, 'min_data_in_leaf': 20, 'lambda_l1': 0.002331428802554355, 'lambda_l2': 3.2450392478802307e-06}\n",
      "\n",
      "Training final model with best parameters...\n",
      "\n",
      "Fold 1/5\n",
      "Training until validation scores don't improve for 50 rounds\n",
      "[100]\ttraining's l2: 0.00623303\tvalid_1's l2: 0.0110858\n",
      "[200]\ttraining's l2: 0.00383408\tvalid_1's l2: 0.00963383\n",
      "[300]\ttraining's l2: 0.00285192\tvalid_1's l2: 0.00919984\n",
      "[400]\ttraining's l2: 0.00217276\tvalid_1's l2: 0.00903814\n",
      "[500]\ttraining's l2: 0.00165702\tvalid_1's l2: 0.00890227\n",
      "[600]\ttraining's l2: 0.00127159\tvalid_1's l2: 0.00879977\n",
      "[700]\ttraining's l2: 0.000984445\tvalid_1's l2: 0.00874909\n",
      "Early stopping, best iteration is:\n",
      "[749]\ttraining's l2: 0.000868523\tvalid_1's l2: 0.00871613\n",
      "Fold 1 RMSE: 0.093360\n",
      "\n",
      "Fold 2/5\n",
      "Training until validation scores don't improve for 50 rounds\n",
      "[100]\ttraining's l2: 0.00621855\tvalid_1's l2: 0.0109451\n",
      "[200]\ttraining's l2: 0.00387545\tvalid_1's l2: 0.00956708\n",
      "[300]\ttraining's l2: 0.00284718\tvalid_1's l2: 0.00921985\n",
      "[400]\ttraining's l2: 0.00211556\tvalid_1's l2: 0.00908125\n",
      "[500]\ttraining's l2: 0.00167861\tvalid_1's l2: 0.00889781\n",
      "[600]\ttraining's l2: 0.00133459\tvalid_1's l2: 0.0088442\n",
      "[700]\ttraining's l2: 0.00104391\tvalid_1's l2: 0.00880966\n",
      "[800]\ttraining's l2: 0.000818525\tvalid_1's l2: 0.00876724\n",
      "[900]\ttraining's l2: 0.000645649\tvalid_1's l2: 0.00874175\n",
      "[1000]\ttraining's l2: 0.000514501\tvalid_1's l2: 0.00872249\n",
      "Did not meet early stopping. Best iteration is:\n",
      "[982]\ttraining's l2: 0.000536975\tvalid_1's l2: 0.0087208\n",
      "Fold 2 RMSE: 0.093385\n",
      "\n",
      "Fold 3/5\n",
      "Training until validation scores don't improve for 50 rounds\n",
      "[100]\ttraining's l2: 0.00618081\tvalid_1's l2: 0.0102354\n",
      "[200]\ttraining's l2: 0.00386037\tvalid_1's l2: 0.00888669\n",
      "[300]\ttraining's l2: 0.00291928\tvalid_1's l2: 0.00851166\n",
      "[400]\ttraining's l2: 0.00210248\tvalid_1's l2: 0.00830773\n",
      "[500]\ttraining's l2: 0.00160966\tvalid_1's l2: 0.00825562\n",
      "[600]\ttraining's l2: 0.00122075\tvalid_1's l2: 0.00819274\n",
      "[700]\ttraining's l2: 0.000965848\tvalid_1's l2: 0.00814458\n",
      "Early stopping, best iteration is:\n",
      "[729]\ttraining's l2: 0.000911897\tvalid_1's l2: 0.00813385\n",
      "Fold 3 RMSE: 0.090188\n",
      "\n",
      "Fold 4/5\n",
      "Training until validation scores don't improve for 50 rounds\n",
      "[100]\ttraining's l2: 0.00604944\tvalid_1's l2: 0.011036\n",
      "[200]\ttraining's l2: 0.0038485\tvalid_1's l2: 0.00962385\n",
      "[300]\ttraining's l2: 0.00284638\tvalid_1's l2: 0.00919197\n",
      "[400]\ttraining's l2: 0.00212962\tvalid_1's l2: 0.00898931\n",
      "[500]\ttraining's l2: 0.00163595\tvalid_1's l2: 0.00885078\n",
      "[600]\ttraining's l2: 0.00124147\tvalid_1's l2: 0.00877312\n",
      "[700]\ttraining's l2: 0.000963789\tvalid_1's l2: 0.00870928\n",
      "[800]\ttraining's l2: 0.000766338\tvalid_1's l2: 0.00865557\n",
      "[900]\ttraining's l2: 0.000609576\tvalid_1's l2: 0.00864516\n",
      "Early stopping, best iteration is:\n",
      "[876]\ttraining's l2: 0.000640503\tvalid_1's l2: 0.00863722\n",
      "Fold 4 RMSE: 0.092937\n",
      "\n",
      "Fold 5/5\n",
      "Training until validation scores don't improve for 50 rounds\n",
      "[100]\ttraining's l2: 0.00610572\tvalid_1's l2: 0.0101521\n",
      "[200]\ttraining's l2: 0.00387497\tvalid_1's l2: 0.00887271\n",
      "[300]\ttraining's l2: 0.00286091\tvalid_1's l2: 0.00851041\n",
      "[400]\ttraining's l2: 0.00213563\tvalid_1's l2: 0.00831316\n",
      "[500]\ttraining's l2: 0.00159667\tvalid_1's l2: 0.00822653\n",
      "[600]\ttraining's l2: 0.00121369\tvalid_1's l2: 0.00814859\n",
      "[700]\ttraining's l2: 0.000942544\tvalid_1's l2: 0.00814005\n",
      "Early stopping, best iteration is:\n",
      "[652]\ttraining's l2: 0.00105415\tvalid_1's l2: 0.00813241\n",
      "Fold 5 RMSE: 0.090180\n",
      "\n",
      "Final Model Performance:\n",
      "Average RMSE: 0.092010 ± 0.001500\n",
      "Overall RMSE: 0.092022\n",
      "\n",
      "Submission saved to submission.csv\n",
      "\n",
      "Top 10 Most Important Features:\n",
      "feature\n",
      "responsibilities_text_476    368.0\n",
      "responsibilities_text_477    338.6\n",
      "responsibilities_text_468    337.6\n",
      "responsibilities_text_470    322.2\n",
      "responsibilities_text_475    310.8\n",
      "skills_text_452              310.0\n",
      "responsibilities_text_465    306.6\n",
      "skills_text_451              306.2\n",
      "responsibilities_text_463    303.2\n",
      "responsibilities_text_474    300.8\n",
      "Name: importance, dtype: float64\n"
     ]
    }
   ],
   "source": [
    "def main():\n",
    "    # Load datasets\n",
    "    # train_df = pd.read_csv('/kaggle/input/kuet-dset-2/train.csv')\n",
    "    # test_df = pd.read_csv('/kaggle/input/kuet-dset-2/test.csv')\n",
    "    \n",
    "    # Feature Engineering\n",
    "    fe = FeatureEngineer()\n",
    "    print(\"Transforming train data...\")\n",
    "    train_features = fe.transform(train_df, is_train=True)\n",
    "    print(\"Transforming test data...\")\n",
    "    test_features = fe.transform(test_df, is_train=False)\n",
    "    \n",
    "    y = train_df['matched_score'].values\n",
    "    \n",
    "    # Find best parameters\n",
    "    print(\"Finding optimal hyperparameters...\")\n",
    "    optimizer = OptimizedLightGBM(n_trials=15)\n",
    "    best_params = optimizer.find_best_params(train_features, y)\n",
    "    \n",
    "    # Add fixed parameters to best_params\n",
    "    best_params.update({\n",
    "        'objective': 'regression_l2',\n",
    "        'metric': 'l2',\n",
    "        'boosting_type': 'gbdt',\n",
    "        'device': 'gpu',\n",
    "        'gpu_platform_id': 0,\n",
    "        'gpu_device_id': 0,\n",
    "        'verbose': -1,\n",
    "        'max_bin': 255  # Ensure GPU compatibility\n",
    "    })\n",
    "\n",
    "    # params = {\n",
    "    #     'objective': 'regression_l2',\n",
    "    #     'metric': 'l2',\n",
    "    #     'num_leaves': 96,\n",
    "    #     'max_depth': 12,\n",
    "    #     'learning_rate': 0.03199484792860085,\n",
    "    #     'feature_fraction': 0.6706304075294632,\n",
    "    #     'bagging_fraction': 0.958672143301124,\n",
    "    #     'bagging_freq': 3,\n",
    "    #     'min_child_samples': 65,\n",
    "    #     'lambda_l1': 0.014964605006024168,\n",
    "    #     'lambda_l2': 4.20761346366579e-08,\n",
    "    #     'max_bin': 178,\n",
    "    #     'gpu_use_dp': True,  # Enable multi-GPU training\n",
    "    #     'tree_learner': 'data_parallel',  # Use multi-GPU setup\n",
    "    #     'verbose': -1\n",
    "        \n",
    "    # }\n",
    "    \n",
    "    # Cross-validation and model training\n",
    "    kf = KFold(n_splits=5, shuffle=True, random_state=42)\n",
    "    oof_predictions = np.zeros(len(train_features))\n",
    "    test_predictions = np.zeros(len(test_features))\n",
    "    feature_importance_df = pd.DataFrame()\n",
    "    fold_scores = []\n",
    "    \n",
    "    print(\"\\nTraining final model with best parameters...\")\n",
    "    for fold, (train_idx, val_idx) in enumerate(kf.split(train_features)):\n",
    "        print(f\"\\nFold {fold + 1}/5\")\n",
    "        X_train, X_val = train_features.iloc[train_idx], train_features.iloc[val_idx]\n",
    "        y_train, y_val = y[train_idx], y[val_idx]\n",
    "        \n",
    "        train_data = lgb.Dataset(X_train, label=y_train)\n",
    "        val_data = lgb.Dataset(X_val, label=y_val)\n",
    "        \n",
    "        model = lgb.train(\n",
    "            best_params,\n",
    "            # params,\n",
    "            train_data,\n",
    "            valid_sets=[train_data, val_data],\n",
    "            num_boost_round=1000,\n",
    "            callbacks=[\n",
    "                lgb.early_stopping(stopping_rounds=50),\n",
    "                lgb.log_evaluation(100)\n",
    "            ]\n",
    "        )\n",
    "        \n",
    "        val_preds = model.predict(X_val)\n",
    "        oof_predictions[val_idx] = val_preds\n",
    "        test_predictions += model.predict(test_features) / kf.n_splits\n",
    "        \n",
    "        fold_rmse = np.sqrt(mean_squared_error(y_val, val_preds))\n",
    "        fold_scores.append(fold_rmse)\n",
    "        print(f\"Fold {fold + 1} RMSE: {fold_rmse:.6f}\")\n",
    "        \n",
    "        fold_importance = pd.DataFrame({\n",
    "            \"feature\": train_features.columns,\n",
    "            \"importance\": model.feature_importance(),\n",
    "            \"fold\": fold + 1\n",
    "        })\n",
    "        feature_importance_df = pd.concat([feature_importance_df, fold_importance], axis=0)\n",
    "    \n",
    "    # Calculate final metrics\n",
    "    final_rmse = np.sqrt(mean_squared_error(y, oof_predictions))\n",
    "    # final_r2 = r2_score(y, oof_predictions)\n",
    "    \n",
    "    print(\"\\nFinal Model Performance:\")\n",
    "    print(f\"Average RMSE: {np.mean(fold_scores):.6f} ± {np.std(fold_scores):.6f}\")\n",
    "    print(f\"Overall RMSE: {final_rmse:.6f}\")\n",
    "    # print(f\"R2 Score: {final_r2:.6f}\")\n",
    "    \n",
    "    # Save predictions\n",
    "    submission = pd.DataFrame({\n",
    "        'ID': test_df['ID'],\n",
    "        'matched_score': test_predictions\n",
    "    })\n",
    "    submission.to_csv('submission.csv', index=False)\n",
    "    print(\"\\nSubmission saved to submission.csv\")\n",
    "    \n",
    "    # Save feature importance\n",
    "    feature_importance = (feature_importance_df.groupby('feature')['importance']\n",
    "                        .mean()\n",
    "                        .sort_values(ascending=False))\n",
    "    feature_importance.to_csv('feature_importance.csv')\n",
    "    \n",
    "    print(\"\\nTop 10 Most Important Features:\")\n",
    "    print(feature_importance.head(10))\n",
    "    \n",
    "    return submission, feature_importance_df\n",
    "\n",
    "from sklearn.model_selection import KFold  # Add this import\n",
    "from sklearn.metrics import mean_squared_error\n",
    "import pandas as pd\n",
    "import numpy as np\n",
    "import lightgbm as lgbm\n",
    "\n",
    "from sklearn.preprocessing import LabelEncoder\n",
    "\n",
    "# The rest of your code remains the same...\n",
    "\n",
    "if __name__ == \"__main__\":\n",
    "    main()"
   ]
  },
  {
   "cell_type": "code",
   "execution_count": 9,
   "id": "4bc5c173",
   "metadata": {
    "execution": {
     "iopub.execute_input": "2024-12-28T09:26:56.891522Z",
     "iopub.status.busy": "2024-12-28T09:26:56.891257Z",
     "iopub.status.idle": "2024-12-28T09:26:56.896075Z",
     "shell.execute_reply": "2024-12-28T09:26:56.895188Z"
    },
    "papermill": {
     "duration": 0.019163,
     "end_time": "2024-12-28T09:26:56.897464",
     "exception": false,
     "start_time": "2024-12-28T09:26:56.878301",
     "status": "completed"
    },
    "tags": []
   },
   "outputs": [
    {
     "name": "stdout",
     "output_type": "stream",
     "text": [
      "Index(['address', 'career_objective', 'skills', 'educational_institution_name',\n",
      "       'degree_names', 'passing_years', 'educational_results', 'result_types',\n",
      "       'major_field_of_studies', 'professional_company_names', 'company_urls',\n",
      "       'start_dates', 'end_dates', 'related_skils_in_job', 'positions',\n",
      "       'locations', 'responsibilities', 'extra_curricular_activity_types',\n",
      "       'extra_curricular_organization_names',\n",
      "       'extra_curricular_organization_links', 'role_positions', 'languages',\n",
      "       'proficiency_levels', 'certification_providers', 'certification_skills',\n",
      "       'online_links', 'issue_dates', 'expiry_dates', '﻿job_position_name',\n",
      "       'educationaL_requirements', 'experiencere_requirement',\n",
      "       'age_requirement', 'responsibilities.1', 'skills_required',\n",
      "       'matched_score', 'composite_feature'],\n",
      "      dtype='object')\n",
      "Index(['ID', 'address', 'career_objective', 'skills',\n",
      "       'educational_institution_name', 'degree_names', 'passing_years',\n",
      "       'educational_results', 'result_types', 'major_field_of_studies',\n",
      "       'professional_company_names', 'company_urls', 'start_dates',\n",
      "       'end_dates', 'related_skils_in_job', 'positions', 'locations',\n",
      "       'responsibilities', 'extra_curricular_activity_types',\n",
      "       'extra_curricular_organization_names',\n",
      "       'extra_curricular_organization_links', 'role_positions', 'languages',\n",
      "       'proficiency_levels', 'certification_providers', 'certification_skills',\n",
      "       'online_links', 'issue_dates', 'expiry_dates', '﻿job_position_name',\n",
      "       'educationaL_requirements', 'experiencere_requirement',\n",
      "       'age_requirement', 'responsibilities.1', 'skills_required',\n",
      "       'composite_feature'],\n",
      "      dtype='object')\n"
     ]
    }
   ],
   "source": [
    "print(train_df.columns)\n",
    "print(test_df.columns)\n"
   ]
  },
  {
   "cell_type": "code",
   "execution_count": 10,
   "id": "78246f47",
   "metadata": {
    "_cell_guid": "b1076dfc-b9ad-4769-8c92-a6c4dae69d19",
    "_uuid": "8f2839f25d086af736a60e9eeb907d3b93b6e0e5",
    "execution": {
     "iopub.execute_input": "2024-12-28T09:26:56.922164Z",
     "iopub.status.busy": "2024-12-28T09:26:56.921909Z",
     "iopub.status.idle": "2024-12-28T09:48:46.597139Z",
     "shell.execute_reply": "2024-12-28T09:48:46.595947Z"
    },
    "papermill": {
     "duration": 1309.689125,
     "end_time": "2024-12-28T09:48:46.598566",
     "exception": false,
     "start_time": "2024-12-28T09:26:56.909441",
     "status": "completed"
    },
    "tags": []
   },
   "outputs": [
    {
     "name": "stdout",
     "output_type": "stream",
     "text": [
      "Transforming train data...\n",
      "Transforming test data...\n"
     ]
    },
    {
     "name": "stderr",
     "output_type": "stream",
     "text": [
      "[I 2024-12-28 09:27:09,861] A new study created in memory with name: no-name-8ad44b6c-03e5-4ba8-ad4c-61817efe2e17\n"
     ]
    },
    {
     "name": "stdout",
     "output_type": "stream",
     "text": [
      "Finding optimal hyperparameters...\n",
      "Training until validation scores don't improve for 50 rounds\n",
      "Early stopping, best iteration is:\n",
      "[703]\tvalid_0's l2: 0.0116467\n",
      "Training until validation scores don't improve for 50 rounds\n",
      "Early stopping, best iteration is:\n",
      "[685]\tvalid_0's l2: 0.0110215\n",
      "Training until validation scores don't improve for 50 rounds\n",
      "Early stopping, best iteration is:\n",
      "[840]\tvalid_0's l2: 0.0104434\n",
      "Training until validation scores don't improve for 50 rounds\n",
      "Early stopping, best iteration is:\n",
      "[849]\tvalid_0's l2: 0.0110018\n",
      "Training until validation scores don't improve for 50 rounds\n"
     ]
    },
    {
     "name": "stderr",
     "output_type": "stream",
     "text": [
      "[I 2024-12-28 09:27:50,016] Trial 0 finished with value: 0.010909732021062503 and parameters: {'num_leaves': 71, 'max_depth': 8, 'learning_rate': 0.012894491887203617, 'feature_fraction': 0.997715990620524, 'bagging_fraction': 0.9730360917797842, 'bagging_freq': 4, 'min_child_samples': 25, 'max_bin': 137, 'min_data_in_leaf': 48, 'lambda_l1': 6.678670662880274, 'lambda_l2': 0.6956195935402643}. Best is trial 0 with value: 0.010909732021062503.\n"
     ]
    },
    {
     "name": "stdout",
     "output_type": "stream",
     "text": [
      "Early stopping, best iteration is:\n",
      "[735]\tvalid_0's l2: 0.0104351\n",
      "Training until validation scores don't improve for 50 rounds\n",
      "Early stopping, best iteration is:\n",
      "[459]\tvalid_0's l2: 0.0088628\n",
      "Training until validation scores don't improve for 50 rounds\n",
      "Early stopping, best iteration is:\n",
      "[652]\tvalid_0's l2: 0.0085775\n",
      "Training until validation scores don't improve for 50 rounds\n",
      "Early stopping, best iteration is:\n",
      "[464]\tvalid_0's l2: 0.00825471\n",
      "Training until validation scores don't improve for 50 rounds\n",
      "Early stopping, best iteration is:\n",
      "[376]\tvalid_0's l2: 0.00886953\n",
      "Training until validation scores don't improve for 50 rounds\n",
      "Early stopping, best iteration is:\n",
      "[680]\tvalid_0's l2: 0.00825746\n"
     ]
    },
    {
     "name": "stderr",
     "output_type": "stream",
     "text": [
      "[I 2024-12-28 09:29:29,363] Trial 1 finished with value: 0.008564398806034606 and parameters: {'num_leaves': 81, 'max_depth': 12, 'learning_rate': 0.03412878379314154, 'feature_fraction': 0.7588588475769372, 'bagging_fraction': 0.8372294199572821, 'bagging_freq': 7, 'min_child_samples': 49, 'max_bin': 191, 'min_data_in_leaf': 36, 'lambda_l1': 0.0004524728228896782, 'lambda_l2': 3.5472939661627034e-05}. Best is trial 1 with value: 0.008564398806034606.\n"
     ]
    },
    {
     "name": "stdout",
     "output_type": "stream",
     "text": [
      "Training until validation scores don't improve for 50 rounds\n",
      "Did not meet early stopping. Best iteration is:\n",
      "[1000]\tvalid_0's l2: 0.00984361\n",
      "Training until validation scores don't improve for 50 rounds\n",
      "Did not meet early stopping. Best iteration is:\n",
      "[1000]\tvalid_0's l2: 0.00956792\n",
      "Training until validation scores don't improve for 50 rounds\n",
      "Did not meet early stopping. Best iteration is:\n",
      "[1000]\tvalid_0's l2: 0.00899761\n",
      "Training until validation scores don't improve for 50 rounds\n",
      "Did not meet early stopping. Best iteration is:\n",
      "[1000]\tvalid_0's l2: 0.00964465\n",
      "Training until validation scores don't improve for 50 rounds\n",
      "Did not meet early stopping. Best iteration is:\n",
      "[1000]\tvalid_0's l2: 0.00897623\n"
     ]
    },
    {
     "name": "stderr",
     "output_type": "stream",
     "text": [
      "[I 2024-12-28 09:31:04,340] Trial 2 finished with value: 0.009406004471587969 and parameters: {'num_leaves': 67, 'max_depth': 9, 'learning_rate': 0.0070252168313446745, 'feature_fraction': 0.9068110285249762, 'bagging_fraction': 0.6500584040732887, 'bagging_freq': 4, 'min_child_samples': 33, 'max_bin': 94, 'min_data_in_leaf': 40, 'lambda_l1': 5.7442600503861094e-08, 'lambda_l2': 0.012290333943122329}. Best is trial 1 with value: 0.008564398806034606.\n"
     ]
    },
    {
     "name": "stdout",
     "output_type": "stream",
     "text": [
      "Training until validation scores don't improve for 50 rounds\n",
      "Did not meet early stopping. Best iteration is:\n",
      "[1000]\tvalid_0's l2: 0.00915877\n",
      "Training until validation scores don't improve for 50 rounds\n",
      "Did not meet early stopping. Best iteration is:\n",
      "[1000]\tvalid_0's l2: 0.00900164\n",
      "Training until validation scores don't improve for 50 rounds\n",
      "Did not meet early stopping. Best iteration is:\n",
      "[1000]\tvalid_0's l2: 0.00837578\n",
      "Training until validation scores don't improve for 50 rounds\n",
      "Did not meet early stopping. Best iteration is:\n",
      "[997]\tvalid_0's l2: 0.0091355\n",
      "Training until validation scores don't improve for 50 rounds\n",
      "Did not meet early stopping. Best iteration is:\n",
      "[1000]\tvalid_0's l2: 0.00853987\n"
     ]
    },
    {
     "name": "stderr",
     "output_type": "stream",
     "text": [
      "[I 2024-12-28 09:32:17,463] Trial 3 finished with value: 0.008842310014038285 and parameters: {'num_leaves': 99, 'max_depth': 7, 'learning_rate': 0.014179745736947866, 'feature_fraction': 0.7927942767411263, 'bagging_fraction': 0.9544696460972223, 'bagging_freq': 10, 'min_child_samples': 60, 'max_bin': 78, 'min_data_in_leaf': 22, 'lambda_l1': 0.0005894686433975719, 'lambda_l2': 0.00016512072885908397}. Best is trial 1 with value: 0.008564398806034606.\n"
     ]
    },
    {
     "name": "stdout",
     "output_type": "stream",
     "text": [
      "Training until validation scores don't improve for 50 rounds\n",
      "Did not meet early stopping. Best iteration is:\n",
      "[1000]\tvalid_0's l2: 0.0117048\n",
      "Training until validation scores don't improve for 50 rounds\n",
      "Did not meet early stopping. Best iteration is:\n",
      "[1000]\tvalid_0's l2: 0.0113914\n",
      "Training until validation scores don't improve for 50 rounds\n",
      "Did not meet early stopping. Best iteration is:\n",
      "[1000]\tvalid_0's l2: 0.0107838\n",
      "Training until validation scores don't improve for 50 rounds\n",
      "Did not meet early stopping. Best iteration is:\n",
      "[1000]\tvalid_0's l2: 0.0115514\n",
      "Training until validation scores don't improve for 50 rounds\n",
      "Did not meet early stopping. Best iteration is:\n",
      "[1000]\tvalid_0's l2: 0.0108063\n"
     ]
    },
    {
     "name": "stderr",
     "output_type": "stream",
     "text": [
      "[I 2024-12-28 09:33:07,106] Trial 4 finished with value: 0.01124754847855262 and parameters: {'num_leaves': 107, 'max_depth': 5, 'learning_rate': 0.005006856139904181, 'feature_fraction': 0.6512378214032367, 'bagging_fraction': 0.6760027636122246, 'bagging_freq': 8, 'min_child_samples': 68, 'max_bin': 149, 'min_data_in_leaf': 17, 'lambda_l1': 0.0018752115285757928, 'lambda_l2': 1.2718369899120523}. Best is trial 1 with value: 0.008564398806034606.\n"
     ]
    },
    {
     "name": "stdout",
     "output_type": "stream",
     "text": [
      "Training until validation scores don't improve for 50 rounds\n",
      "Did not meet early stopping. Best iteration is:\n",
      "[1000]\tvalid_0's l2: 0.0103077\n",
      "Training until validation scores don't improve for 50 rounds\n",
      "Did not meet early stopping. Best iteration is:\n",
      "[1000]\tvalid_0's l2: 0.0100204\n",
      "Training until validation scores don't improve for 50 rounds\n",
      "Did not meet early stopping. Best iteration is:\n",
      "[1000]\tvalid_0's l2: 0.00939614\n",
      "Training until validation scores don't improve for 50 rounds\n",
      "Did not meet early stopping. Best iteration is:\n",
      "[1000]\tvalid_0's l2: 0.00994547\n",
      "Training until validation scores don't improve for 50 rounds\n",
      "Did not meet early stopping. Best iteration is:\n",
      "[1000]\tvalid_0's l2: 0.00943673\n"
     ]
    },
    {
     "name": "stderr",
     "output_type": "stream",
     "text": [
      "[I 2024-12-28 09:33:58,570] Trial 5 finished with value: 0.009821297498622913 and parameters: {'num_leaves': 97, 'max_depth': 5, 'learning_rate': 0.015798400932130852, 'feature_fraction': 0.87362650989143, 'bagging_fraction': 0.7631162227745412, 'bagging_freq': 1, 'min_child_samples': 32, 'max_bin': 243, 'min_data_in_leaf': 45, 'lambda_l1': 3.3371179079691697, 'lambda_l2': 3.0923107674456376e-05}. Best is trial 1 with value: 0.008564398806034606.\n"
     ]
    },
    {
     "name": "stdout",
     "output_type": "stream",
     "text": [
      "Training until validation scores don't improve for 50 rounds\n",
      "Did not meet early stopping. Best iteration is:\n",
      "[999]\tvalid_0's l2: 0.0103568\n",
      "Training until validation scores don't improve for 50 rounds\n",
      "Did not meet early stopping. Best iteration is:\n",
      "[1000]\tvalid_0's l2: 0.0100425\n",
      "Training until validation scores don't improve for 50 rounds\n",
      "Did not meet early stopping. Best iteration is:\n",
      "[1000]\tvalid_0's l2: 0.0093838\n",
      "Training until validation scores don't improve for 50 rounds\n",
      "Did not meet early stopping. Best iteration is:\n",
      "[1000]\tvalid_0's l2: 0.0100358\n",
      "Training until validation scores don't improve for 50 rounds\n",
      "Did not meet early stopping. Best iteration is:\n",
      "[1000]\tvalid_0's l2: 0.00929355\n"
     ]
    },
    {
     "name": "stderr",
     "output_type": "stream",
     "text": [
      "[I 2024-12-28 09:35:14,953] Trial 6 finished with value: 0.009822515762811877 and parameters: {'num_leaves': 39, 'max_depth': 6, 'learning_rate': 0.008249050363887178, 'feature_fraction': 0.9792062943004343, 'bagging_fraction': 0.6453236415097331, 'bagging_freq': 3, 'min_child_samples': 75, 'max_bin': 248, 'min_data_in_leaf': 38, 'lambda_l1': 0.1300565926295599, 'lambda_l2': 0.0007748051044937304}. Best is trial 1 with value: 0.008564398806034606.\n"
     ]
    },
    {
     "name": "stdout",
     "output_type": "stream",
     "text": [
      "Training until validation scores don't improve for 50 rounds\n",
      "Did not meet early stopping. Best iteration is:\n",
      "[1000]\tvalid_0's l2: 0.00879109\n",
      "Training until validation scores don't improve for 50 rounds\n",
      "Did not meet early stopping. Best iteration is:\n",
      "[1000]\tvalid_0's l2: 0.00871348\n",
      "Training until validation scores don't improve for 50 rounds\n",
      "Did not meet early stopping. Best iteration is:\n",
      "[993]\tvalid_0's l2: 0.00813337\n",
      "Training until validation scores don't improve for 50 rounds\n",
      "Did not meet early stopping. Best iteration is:\n",
      "[1000]\tvalid_0's l2: 0.00872885\n",
      "Training until validation scores don't improve for 50 rounds\n",
      "Did not meet early stopping. Best iteration is:\n",
      "[1000]\tvalid_0's l2: 0.00821351\n"
     ]
    },
    {
     "name": "stderr",
     "output_type": "stream",
     "text": [
      "[I 2024-12-28 09:36:15,449] Trial 7 finished with value: 0.008516058893730945 and parameters: {'num_leaves': 38, 'max_depth': 7, 'learning_rate': 0.021663465611820004, 'feature_fraction': 0.8057287499773529, 'bagging_fraction': 0.8094253610736333, 'bagging_freq': 3, 'min_child_samples': 74, 'max_bin': 65, 'min_data_in_leaf': 30, 'lambda_l1': 0.00889013253182949, 'lambda_l2': 8.934989856673769e-08}. Best is trial 7 with value: 0.008516058893730945.\n"
     ]
    },
    {
     "name": "stdout",
     "output_type": "stream",
     "text": [
      "Training until validation scores don't improve for 50 rounds\n",
      "Did not meet early stopping. Best iteration is:\n",
      "[1000]\tvalid_0's l2: 0.00905044\n",
      "Training until validation scores don't improve for 50 rounds\n",
      "Did not meet early stopping. Best iteration is:\n",
      "[1000]\tvalid_0's l2: 0.00903004\n",
      "Training until validation scores don't improve for 50 rounds\n",
      "Did not meet early stopping. Best iteration is:\n",
      "[1000]\tvalid_0's l2: 0.00838696\n",
      "Training until validation scores don't improve for 50 rounds\n",
      "Did not meet early stopping. Best iteration is:\n",
      "[997]\tvalid_0's l2: 0.00902832\n",
      "Training until validation scores don't improve for 50 rounds\n",
      "Did not meet early stopping. Best iteration is:\n",
      "[1000]\tvalid_0's l2: 0.00848327\n"
     ]
    },
    {
     "name": "stderr",
     "output_type": "stream",
     "text": [
      "[I 2024-12-28 09:38:48,049] Trial 8 finished with value: 0.008795805703122364 and parameters: {'num_leaves': 122, 'max_depth': 9, 'learning_rate': 0.0128591747685039, 'feature_fraction': 0.9193599624778676, 'bagging_fraction': 0.9882690917866976, 'bagging_freq': 8, 'min_child_samples': 55, 'max_bin': 154, 'min_data_in_leaf': 21, 'lambda_l1': 9.539514899249026e-06, 'lambda_l2': 0.0006405800492528965}. Best is trial 7 with value: 0.008516058893730945.\n"
     ]
    },
    {
     "name": "stdout",
     "output_type": "stream",
     "text": [
      "Training until validation scores don't improve for 50 rounds\n",
      "Did not meet early stopping. Best iteration is:\n",
      "[1000]\tvalid_0's l2: 0.0106995\n",
      "Training until validation scores don't improve for 50 rounds\n",
      "Did not meet early stopping. Best iteration is:\n",
      "[1000]\tvalid_0's l2: 0.0103063\n",
      "Training until validation scores don't improve for 50 rounds\n",
      "Did not meet early stopping. Best iteration is:\n",
      "[1000]\tvalid_0's l2: 0.0097591\n",
      "Training until validation scores don't improve for 50 rounds\n",
      "Did not meet early stopping. Best iteration is:\n",
      "[1000]\tvalid_0's l2: 0.0103176\n",
      "Training until validation scores don't improve for 50 rounds\n",
      "Did not meet early stopping. Best iteration is:\n",
      "[1000]\tvalid_0's l2: 0.00974607\n"
     ]
    },
    {
     "name": "stderr",
     "output_type": "stream",
     "text": [
      "[I 2024-12-28 09:39:33,923] Trial 9 finished with value: 0.010165710812169156 and parameters: {'num_leaves': 126, 'max_depth': 5, 'learning_rate': 0.008617430727077999, 'feature_fraction': 0.7098614438838488, 'bagging_fraction': 0.7067539437615035, 'bagging_freq': 2, 'min_child_samples': 65, 'max_bin': 126, 'min_data_in_leaf': 20, 'lambda_l1': 2.009639943270269e-07, 'lambda_l2': 0.3137165368746327}. Best is trial 7 with value: 0.008516058893730945.\n"
     ]
    },
    {
     "name": "stdout",
     "output_type": "stream",
     "text": [
      "Training until validation scores don't improve for 50 rounds\n",
      "Early stopping, best iteration is:\n",
      "[916]\tvalid_0's l2: 0.00870765\n",
      "Training until validation scores don't improve for 50 rounds\n",
      "Did not meet early stopping. Best iteration is:\n",
      "[983]\tvalid_0's l2: 0.00839495\n",
      "Training until validation scores don't improve for 50 rounds\n",
      "Did not meet early stopping. Best iteration is:\n",
      "[995]\tvalid_0's l2: 0.00788236\n",
      "Training until validation scores don't improve for 50 rounds\n",
      "Did not meet early stopping. Best iteration is:\n",
      "[981]\tvalid_0's l2: 0.00844884\n",
      "Training until validation scores don't improve for 50 rounds\n",
      "Did not meet early stopping. Best iteration is:\n",
      "[991]\tvalid_0's l2: 0.00796491\n"
     ]
    },
    {
     "name": "stderr",
     "output_type": "stream",
     "text": [
      "[I 2024-12-28 09:41:19,594] Trial 10 finished with value: 0.008279740739390553 and parameters: {'num_leaves': 33, 'max_depth': 11, 'learning_rate': 0.031569836374563, 'feature_fraction': 0.6041930574501404, 'bagging_fraction': 0.8628189085120157, 'bagging_freq': 6, 'min_child_samples': 80, 'max_bin': 199, 'min_data_in_leaf': 10, 'lambda_l1': 0.04553229986159843, 'lambda_l2': 1.7491843518391425e-08}. Best is trial 10 with value: 0.008279740739390553.\n"
     ]
    },
    {
     "name": "stdout",
     "output_type": "stream",
     "text": [
      "Training until validation scores don't improve for 50 rounds\n",
      "Early stopping, best iteration is:\n",
      "[804]\tvalid_0's l2: 0.00875698\n",
      "Training until validation scores don't improve for 50 rounds\n",
      "Early stopping, best iteration is:\n",
      "[894]\tvalid_0's l2: 0.00840571\n",
      "Training until validation scores don't improve for 50 rounds\n",
      "Did not meet early stopping. Best iteration is:\n",
      "[998]\tvalid_0's l2: 0.00799974\n",
      "Training until validation scores don't improve for 50 rounds\n",
      "Early stopping, best iteration is:\n",
      "[897]\tvalid_0's l2: 0.00855821\n",
      "Training until validation scores don't improve for 50 rounds\n",
      "Early stopping, best iteration is:\n",
      "[784]\tvalid_0's l2: 0.00798819\n"
     ]
    },
    {
     "name": "stderr",
     "output_type": "stream",
     "text": [
      "[I 2024-12-28 09:42:45,619] Trial 11 finished with value: 0.008341766725837056 and parameters: {'num_leaves': 31, 'max_depth': 11, 'learning_rate': 0.03670920580969825, 'feature_fraction': 0.6370780450939477, 'bagging_fraction': 0.8509061360649933, 'bagging_freq': 6, 'min_child_samples': 80, 'max_bin': 202, 'min_data_in_leaf': 10, 'lambda_l1': 0.04084460024433476, 'lambda_l2': 1.3201087733978354e-08}. Best is trial 10 with value: 0.008279740739390553.\n"
     ]
    },
    {
     "name": "stdout",
     "output_type": "stream",
     "text": [
      "Training until validation scores don't improve for 50 rounds\n",
      "Early stopping, best iteration is:\n",
      "[731]\tvalid_0's l2: 0.00867257\n",
      "Training until validation scores don't improve for 50 rounds\n",
      "Early stopping, best iteration is:\n",
      "[806]\tvalid_0's l2: 0.00845325\n",
      "Training until validation scores don't improve for 50 rounds\n",
      "Early stopping, best iteration is:\n",
      "[751]\tvalid_0's l2: 0.00783133\n",
      "Training until validation scores don't improve for 50 rounds\n",
      "Did not meet early stopping. Best iteration is:\n",
      "[995]\tvalid_0's l2: 0.00854051\n",
      "Training until validation scores don't improve for 50 rounds\n"
     ]
    },
    {
     "name": "stderr",
     "output_type": "stream",
     "text": [
      "[I 2024-12-28 09:44:06,268] Trial 12 finished with value: 0.008256930198270522 and parameters: {'num_leaves': 31, 'max_depth': 11, 'learning_rate': 0.04797783252286095, 'feature_fraction': 0.6061207641214251, 'bagging_fraction': 0.8918973307974841, 'bagging_freq': 6, 'min_child_samples': 80, 'max_bin': 202, 'min_data_in_leaf': 12, 'lambda_l1': 0.09563916804287748, 'lambda_l2': 1.116224045481925e-08}. Best is trial 12 with value: 0.008256930198270522.\n"
     ]
    },
    {
     "name": "stdout",
     "output_type": "stream",
     "text": [
      "Early stopping, best iteration is:\n",
      "[596]\tvalid_0's l2: 0.00778699\n",
      "Training until validation scores don't improve for 50 rounds\n",
      "Early stopping, best iteration is:\n",
      "[411]\tvalid_0's l2: 0.00868916\n",
      "Training until validation scores don't improve for 50 rounds\n",
      "Early stopping, best iteration is:\n",
      "[648]\tvalid_0's l2: 0.00845569\n",
      "Training until validation scores don't improve for 50 rounds\n",
      "Early stopping, best iteration is:\n",
      "[652]\tvalid_0's l2: 0.00804942\n",
      "Training until validation scores don't improve for 50 rounds\n",
      "Early stopping, best iteration is:\n",
      "[560]\tvalid_0's l2: 0.00853768\n",
      "Training until validation scores don't improve for 50 rounds\n"
     ]
    },
    {
     "name": "stderr",
     "output_type": "stream",
     "text": [
      "[I 2024-12-28 09:45:33,775] Trial 13 finished with value: 0.008349227999261553 and parameters: {'num_leaves': 54, 'max_depth': 11, 'learning_rate': 0.04983672657162842, 'feature_fraction': 0.6030853880513323, 'bagging_fraction': 0.9013807499582697, 'bagging_freq': 5, 'min_child_samples': 50, 'max_bin': 197, 'min_data_in_leaf': 12, 'lambda_l1': 0.4572528846656661, 'lambda_l2': 6.005792204209516e-07}. Best is trial 12 with value: 0.008256930198270522.\n"
     ]
    },
    {
     "name": "stdout",
     "output_type": "stream",
     "text": [
      "Early stopping, best iteration is:\n",
      "[453]\tvalid_0's l2: 0.00801419\n",
      "Training until validation scores don't improve for 50 rounds\n",
      "Did not meet early stopping. Best iteration is:\n",
      "[995]\tvalid_0's l2: 0.00872933\n",
      "Training until validation scores don't improve for 50 rounds\n",
      "Early stopping, best iteration is:\n",
      "[939]\tvalid_0's l2: 0.00851946\n",
      "Training until validation scores don't improve for 50 rounds\n",
      "Early stopping, best iteration is:\n",
      "[934]\tvalid_0's l2: 0.00791002\n",
      "Training until validation scores don't improve for 50 rounds\n",
      "Did not meet early stopping. Best iteration is:\n",
      "[986]\tvalid_0's l2: 0.00849103\n",
      "Training until validation scores don't improve for 50 rounds\n",
      "Early stopping, best iteration is:\n",
      "[774]\tvalid_0's l2: 0.00789618\n"
     ]
    },
    {
     "name": "stderr",
     "output_type": "stream",
     "text": [
      "[I 2024-12-28 09:47:39,654] Trial 14 finished with value: 0.0083092030624888 and parameters: {'num_leaves': 51, 'max_depth': 10, 'learning_rate': 0.02563679291982462, 'feature_fraction': 0.6908011195666701, 'bagging_fraction': 0.8906324921239008, 'bagging_freq': 6, 'min_child_samples': 79, 'max_bin': 223, 'min_data_in_leaf': 27, 'lambda_l1': 4.164718078240208e-05, 'lambda_l2': 1.920486453737221e-06}. Best is trial 12 with value: 0.008256930198270522.\n"
     ]
    },
    {
     "name": "stdout",
     "output_type": "stream",
     "text": [
      "\n",
      "Optimization Results:\n",
      "Best MSE: 0.008256930198270522\n",
      "Best parameters: {'num_leaves': 31, 'max_depth': 11, 'learning_rate': 0.04797783252286095, 'feature_fraction': 0.6061207641214251, 'bagging_fraction': 0.8918973307974841, 'bagging_freq': 6, 'min_child_samples': 80, 'max_bin': 202, 'min_data_in_leaf': 12, 'lambda_l1': 0.09563916804287748, 'lambda_l2': 1.116224045481925e-08}\n",
      "\n",
      "Training final model with best parameters...\n",
      "\n",
      "Fold 1/5\n",
      "Training until validation scores don't improve for 50 rounds\n",
      "[100]\ttraining's l2: 0.00636617\tvalid_1's l2: 0.0102368\n",
      "[200]\ttraining's l2: 0.00430577\tvalid_1's l2: 0.00936505\n",
      "[300]\ttraining's l2: 0.00318139\tvalid_1's l2: 0.00898776\n",
      "[400]\ttraining's l2: 0.00241155\tvalid_1's l2: 0.00879868\n",
      "[500]\ttraining's l2: 0.00184315\tvalid_1's l2: 0.00871847\n",
      "[600]\ttraining's l2: 0.00143102\tvalid_1's l2: 0.00865435\n",
      "[700]\ttraining's l2: 0.00112729\tvalid_1's l2: 0.00863165\n",
      "Early stopping, best iteration is:\n",
      "[653]\ttraining's l2: 0.00126167\tvalid_1's l2: 0.00862327\n",
      "Fold 1 RMSE: 0.092862\n",
      "\n",
      "Fold 2/5\n",
      "Training until validation scores don't improve for 50 rounds\n",
      "[100]\ttraining's l2: 0.00626777\tvalid_1's l2: 0.00983223\n",
      "[200]\ttraining's l2: 0.00427843\tvalid_1's l2: 0.00905593\n",
      "[300]\ttraining's l2: 0.00313245\tvalid_1's l2: 0.00875152\n",
      "[400]\ttraining's l2: 0.00237732\tvalid_1's l2: 0.00869724\n",
      "[500]\ttraining's l2: 0.00181455\tvalid_1's l2: 0.00862284\n",
      "[600]\ttraining's l2: 0.00142559\tvalid_1's l2: 0.00855886\n",
      "[700]\ttraining's l2: 0.00111387\tvalid_1's l2: 0.00851914\n",
      "[800]\ttraining's l2: 0.000891163\tvalid_1's l2: 0.00846945\n",
      "Early stopping, best iteration is:\n",
      "[790]\ttraining's l2: 0.000910007\tvalid_1's l2: 0.00846633\n",
      "Fold 2 RMSE: 0.092013\n",
      "\n",
      "Fold 3/5\n",
      "Training until validation scores don't improve for 50 rounds\n",
      "[100]\ttraining's l2: 0.00650827\tvalid_1's l2: 0.00935198\n",
      "[200]\ttraining's l2: 0.00445948\tvalid_1's l2: 0.00860654\n",
      "[300]\ttraining's l2: 0.00323754\tvalid_1's l2: 0.00825354\n",
      "[400]\ttraining's l2: 0.002439\tvalid_1's l2: 0.0081193\n",
      "Early stopping, best iteration is:\n",
      "[377]\ttraining's l2: 0.0025985\tvalid_1's l2: 0.00811202\n",
      "Fold 3 RMSE: 0.090067\n",
      "\n",
      "Fold 4/5\n",
      "Training until validation scores don't improve for 50 rounds\n",
      "[100]\ttraining's l2: 0.00623559\tvalid_1's l2: 0.00988231\n",
      "[200]\ttraining's l2: 0.00428842\tvalid_1's l2: 0.00909087\n",
      "[300]\ttraining's l2: 0.00318793\tvalid_1's l2: 0.00885166\n",
      "[400]\ttraining's l2: 0.00238853\tvalid_1's l2: 0.00870699\n",
      "Early stopping, best iteration is:\n",
      "[385]\ttraining's l2: 0.00248831\tvalid_1's l2: 0.00869535\n",
      "Fold 4 RMSE: 0.093249\n",
      "\n",
      "Fold 5/5\n",
      "Training until validation scores don't improve for 50 rounds\n",
      "[100]\ttraining's l2: 0.00645755\tvalid_1's l2: 0.0093391\n",
      "[200]\ttraining's l2: 0.00431501\tvalid_1's l2: 0.00846636\n",
      "[300]\ttraining's l2: 0.00319012\tvalid_1's l2: 0.00816279\n",
      "[400]\ttraining's l2: 0.00240581\tvalid_1's l2: 0.00799461\n",
      "[500]\ttraining's l2: 0.00185973\tvalid_1's l2: 0.00791176\n",
      "[600]\ttraining's l2: 0.0014474\tvalid_1's l2: 0.00786709\n",
      "[700]\ttraining's l2: 0.00114452\tvalid_1's l2: 0.00782346\n",
      "Early stopping, best iteration is:\n",
      "[689]\ttraining's l2: 0.00117588\tvalid_1's l2: 0.00781684\n",
      "Fold 5 RMSE: 0.088413\n",
      "\n",
      "Final Model Performance:\n",
      "Average RMSE: 0.091321 ± 0.001822\n",
      "Overall RMSE: 0.091339\n",
      "\n",
      "Submission saved to submission.csv\n",
      "\n",
      "Top 10 Most Important Features:\n",
      "feature\n",
      "responsibilities_text_476    146.8\n",
      "responsibilities_text_453    130.8\n",
      "responsibilities_text_468    126.6\n",
      "responsibilities_text_477    120.8\n",
      "responsibilities_text_455    116.2\n",
      "responsibilities_text_461    113.0\n",
      "responsibilities_text_469    110.8\n",
      "responsibilities_text_485    109.6\n",
      "skills_text_451              108.0\n",
      "responsibilities_text_474    107.8\n",
      "Name: importance, dtype: float64\n"
     ]
    }
   ],
   "source": [
    "if __name__ == \"__main__\":\n",
    "    main()"
   ]
  }
 ],
 "metadata": {
  "kaggle": {
   "accelerator": "nvidiaTeslaT4",
   "dataSources": [
    {
     "databundleVersionId": 10606811,
     "sourceId": 90798,
     "sourceType": "competition"
    },
    {
     "datasetId": 6385201,
     "sourceId": 10314104,
     "sourceType": "datasetVersion"
    }
   ],
   "dockerImageVersionId": 30823,
   "isGpuEnabled": true,
   "isInternetEnabled": true,
   "language": "python",
   "sourceType": "notebook"
  },
  "kernelspec": {
   "display_name": "Python 3",
   "language": "python",
   "name": "python3"
  },
  "language_info": {
   "codemirror_mode": {
    "name": "ipython",
    "version": 3
   },
   "file_extension": ".py",
   "mimetype": "text/x-python",
   "name": "python",
   "nbconvert_exporter": "python",
   "pygments_lexer": "ipython3",
   "version": "3.10.12"
  },
  "papermill": {
   "default_parameters": {},
   "duration": 3222.443861,
   "end_time": "2024-12-28T09:48:47.542097",
   "environment_variables": {},
   "exception": null,
   "input_path": "__notebook__.ipynb",
   "output_path": "__notebook__.ipynb",
   "parameters": {},
   "start_time": "2024-12-28T08:55:05.098236",
   "version": "2.6.0"
  }
 },
 "nbformat": 4,
 "nbformat_minor": 5
}
